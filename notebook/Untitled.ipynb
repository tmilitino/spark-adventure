{
 "cells": [
  {
   "cell_type": "code",
   "execution_count": 1,
   "id": "d413bd9c-8272-48c6-8656-71f40985772e",
   "metadata": {},
   "outputs": [
    {
     "name": "stdout",
     "output_type": "stream",
     "text": [
      "Collecting findspark\n",
      "  Downloading findspark-2.0.1-py2.py3-none-any.whl (4.4 kB)\n",
      "Installing collected packages: findspark\n",
      "Successfully installed findspark-2.0.1\n"
     ]
    }
   ],
   "source": [
    "!pip install findspark\n",
    "\n",
    "import findspark\n",
    "findspark.init()\n"
   ]
  },
  {
   "cell_type": "code",
   "execution_count": 2,
   "id": "829e9574-6075-4c48-a37d-8add5f2b36a1",
   "metadata": {},
   "outputs": [],
   "source": [
    "from pyspark.sql import SparkSession\n",
    "from pyspark import SparkContext"
   ]
  },
  {
   "cell_type": "code",
   "execution_count": 3,
   "id": "ef11fd23-291b-424b-8144-5e082f247a22",
   "metadata": {},
   "outputs": [
    {
     "name": "stderr",
     "output_type": "stream",
     "text": [
      "WARNING: An illegal reflective access operation has occurred\n",
      "WARNING: Illegal reflective access by org.apache.spark.unsafe.Platform (file:/opt/spark/jars/spark-unsafe_2.12-3.1.2.jar) to constructor java.nio.DirectByteBuffer(long,int)\n",
      "WARNING: Please consider reporting this to the maintainers of org.apache.spark.unsafe.Platform\n",
      "WARNING: Use --illegal-access=warn to enable warnings of further illegal reflective access operations\n",
      "WARNING: All illegal access operations will be denied in a future release\n",
      "22/08/08 16:06:29 WARN NativeCodeLoader: Unable to load native-hadoop library for your platform... using builtin-java classes where applicable\n",
      "Using Spark's default log4j profile: org/apache/spark/log4j-defaults.properties\n",
      "Setting default log level to \"WARN\".\n",
      "To adjust logging level use sc.setLogLevel(newLevel). For SparkR, use setLogLevel(newLevel).\n"
     ]
    },
    {
     "data": {
      "text/html": [
       "\n",
       "        <div>\n",
       "            <p><b>SparkContext</b></p>\n",
       "\n",
       "            <p><a href=\"http://e98993af15e7:4040\">Spark UI</a></p>\n",
       "\n",
       "            <dl>\n",
       "              <dt>Version</dt>\n",
       "                <dd><code>v3.1.2</code></dd>\n",
       "              <dt>Master</dt>\n",
       "                <dd><code>spark://master:7077</code></dd>\n",
       "              <dt>AppName</dt>\n",
       "                <dd><code>sss</code></dd>\n",
       "            </dl>\n",
       "        </div>\n",
       "        "
      ],
      "text/plain": [
       "<SparkContext master=spark://master:7077 appName=sss>"
      ]
     },
     "execution_count": 3,
     "metadata": {},
     "output_type": "execute_result"
    }
   ],
   "source": [
    "\n",
    "master = \"spark://master:7077\"\n",
    "SparkContext.setSystemProperty('spark.executor.memory', '512M')\n",
    "SparkContext.setSystemProperty('spark.master', master)\n",
    "SparkContext.setSystemProperty(\"spark.executor.instances\", \"1\")\n",
    "SparkContext.setSystemProperty(\"spark.deploy.mode\", 'cluster')\n",
    "\n",
    "sc = SparkContext(appName=\"sss\")\n",
    "sc\n"
   ]
  },
  {
   "cell_type": "code",
   "execution_count": 4,
   "id": "e0ea2f9b-b406-42d7-bbaa-54fc4870c8c2",
   "metadata": {},
   "outputs": [],
   "source": [
    "spark = SparkSession.builder.getOrCreate()\n",
    "# spark.sparkContext"
   ]
  },
  {
   "cell_type": "code",
   "execution_count": 5,
   "id": "0d930d0a-f6a9-4367-961d-8db419ede9a3",
   "metadata": {},
   "outputs": [],
   "source": [
    "simpleData = [(\"James\", \"Vendas\", \"SP\", 30000, 34, 20000),\n",
    "              (\"Miguel\", \"Vendas\", \"RJ\", 83000, 56, 20000),\n",
    "              (\"Roberto\", \"Marketing\", \"SP\", 80000, 30, 23000),\n",
    "              (\"Maria\", \"Financeiro\", \"SP\", 50000, 24, 23000),\n",
    "              (\"Jonas\", \"Financeiro\", \"PE\", 95000, 40, 24000),\n",
    "              (\"Carla\", \"Financeiro\", \"PE\", 86000, 36, 19000),\n",
    "              (\"Adriana\", \"Vendas\", \"PR\", 29000, 53, 15000),\n",
    "              (\"Adriana\", \"Vendas\", \"PR\", 29000, 53, 15000),\n",
    "              (\"Adriana\", \"Vendas\", \"PR\", 29000, 53, 15000),\n",
    "              (\"Adriana\", \"Vendas\", \"PR\", 29000, 53, 15000),\n",
    "              (\"Ana\", \"Marketing\", \"PR\", 97000, 50, 22000)\n",
    "              ]\n",
    "\n",
    "schema = [\"funcionario\", \"departmento\", \"estado\", \"salario\", \"idade\", \"bonus\"]\n",
    "df = spark.createDataFrame(data=simpleData, schema=schema)\n"
   ]
  },
  {
   "cell_type": "code",
   "execution_count": 6,
   "id": "b6e70b27-6475-4848-a8c5-2b1d32e6172a",
   "metadata": {},
   "outputs": [
    {
     "name": "stderr",
     "output_type": "stream",
     "text": [
      "[Stage 9:=================================================>       (65 + 2) / 75]\r"
     ]
    },
    {
     "name": "stdout",
     "output_type": "stream",
     "text": [
      "+-----------+------------------+\n",
      "|departmento|      avg(salario)|\n",
      "+-----------+------------------+\n",
      "|     Vendas|38166.666666666664|\n",
      "| Financeiro|           77000.0|\n",
      "|  Marketing|           88500.0|\n",
      "+-----------+------------------+\n",
      "\n"
     ]
    },
    {
     "name": "stderr",
     "output_type": "stream",
     "text": [
      "                                                                                \r"
     ]
    }
   ],
   "source": [
    "df.groupBy(\"departmento\").avg(\"salario\").show()"
   ]
  }
 ],
 "metadata": {
  "kernelspec": {
   "display_name": "Python 3 (ipykernel)",
   "language": "python",
   "name": "python3"
  },
  "language_info": {
   "codemirror_mode": {
    "name": "ipython",
    "version": 3
   },
   "file_extension": ".py",
   "mimetype": "text/x-python",
   "name": "python",
   "nbconvert_exporter": "python",
   "pygments_lexer": "ipython3",
   "version": "3.9.2"
  }
 },
 "nbformat": 4,
 "nbformat_minor": 5
}
